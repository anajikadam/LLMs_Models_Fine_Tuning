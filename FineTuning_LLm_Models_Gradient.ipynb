{
  "nbformat": 4,
  "nbformat_minor": 0,
  "metadata": {
    "colab": {
      "provenance": []
    },
    "kernelspec": {
      "name": "python3",
      "display_name": "Python 3"
    },
    "language_info": {
      "name": "python"
    }
  },
  "cells": [
    {
      "cell_type": "code",
      "source": [
        "# workspace ID\n",
        "# \"17dcfa54-46d2-b14c-e147812131195ddae_workspace\"\n",
        "\n",
        "# Access Token:\n",
        "\n",
        "# \"jlMnasasasasasasasKgvnBJIO2emT4z3PMhP9YfcM\""
      ],
      "metadata": {
        "id": "CUkACpzeItw6"
      },
      "execution_count": null,
      "outputs": []
    },
    {
      "cell_type": "code",
      "source": [
        "# gradient Docs\n",
        "\n",
        "# https://docs.gradient.ai/docs/sdk-tutorial\n",
        "\n",
        "\n",
        "# https://docs.gradient.ai/docs/cli-quickstart\n",
        "\n",
        "# https://docs.gradient.ai/docs/tips-and-tricks"
      ],
      "metadata": {
        "id": "_IYWF4rhItuc"
      },
      "execution_count": null,
      "outputs": []
    },
    {
      "cell_type": "code",
      "source": [
        "# Login gradient\n",
        "# https://auth.gradient.ai/login\n",
        "# https://auth.gradient.ai/login\n",
        "\n",
        "# Go to workspace\n",
        "# https://app.gradient.ai/workspace"
      ],
      "metadata": {
        "id": "A7tse0R1ItsN"
      },
      "execution_count": null,
      "outputs": []
    },
    {
      "cell_type": "code",
      "source": [
        "# creating finituning\n",
        "# bloom-560m\n",
        "# llama2-7b-chat\n",
        "# nous-hermes2\n",
        "\n",
        "\n",
        "# New model Name:\n",
        "\n",
        "# AKModel_nous-hermes2"
      ],
      "metadata": {
        "id": "ZoJ0_g7qJ0wB"
      },
      "execution_count": null,
      "outputs": []
    },
    {
      "cell_type": "code",
      "source": [],
      "metadata": {
        "id": "0a7io2oeItps"
      },
      "execution_count": null,
      "outputs": []
    },
    {
      "cell_type": "code",
      "execution_count": null,
      "metadata": {
        "colab": {
          "base_uri": "https://localhost:8080/"
        },
        "id": "_e6CTeeHcdoZ",
        "outputId": "3591ce14-36cd-4025-d54a-f8d746fcfb04"
      },
      "outputs": [
        {
          "output_type": "stream",
          "name": "stdout",
          "text": [
            "Collecting gradientai\n",
            "  Downloading gradientai-1.6.0-py3-none-any.whl (270 kB)\n",
            "\u001b[2K     \u001b[90m━━━━━━━━━━━━━━━━━━━━━━━━━━━━━━━━━━━━━━━━\u001b[0m \u001b[32m270.2/270.2 kB\u001b[0m \u001b[31m4.0 MB/s\u001b[0m eta \u001b[36m0:00:00\u001b[0m\n",
            "\u001b[?25hCollecting aenum>=3.1.11 (from gradientai)\n",
            "  Downloading aenum-3.1.15-py3-none-any.whl (137 kB)\n",
            "\u001b[2K     \u001b[90m━━━━━━━━━━━━━━━━━━━━━━━━━━━━━━━━━━━━━━━━\u001b[0m \u001b[32m137.6/137.6 kB\u001b[0m \u001b[31m9.3 MB/s\u001b[0m eta \u001b[36m0:00:00\u001b[0m\n",
            "\u001b[?25hRequirement already satisfied: pydantic<2.0.0,>=1.10.5 in /usr/local/lib/python3.10/dist-packages (from gradientai) (1.10.14)\n",
            "Requirement already satisfied: python-dateutil>=2.8.2 in /usr/local/lib/python3.10/dist-packages (from gradientai) (2.8.2)\n",
            "Requirement already satisfied: urllib3>=1.25.3 in /usr/local/lib/python3.10/dist-packages (from gradientai) (2.0.7)\n",
            "Requirement already satisfied: typing-extensions>=4.2.0 in /usr/local/lib/python3.10/dist-packages (from pydantic<2.0.0,>=1.10.5->gradientai) (4.5.0)\n",
            "Requirement already satisfied: six>=1.5 in /usr/local/lib/python3.10/dist-packages (from python-dateutil>=2.8.2->gradientai) (1.16.0)\n",
            "Installing collected packages: aenum, gradientai\n",
            "Successfully installed aenum-3.1.15 gradientai-1.6.0\n"
          ]
        }
      ],
      "source": [
        "!pip install gradientai --upgrade"
      ]
    },
    {
      "cell_type": "code",
      "source": [
        "import os\n",
        "# os.environ['GRADIENT_WORKSPACE_ID']='b1ed1035-2fe1-4656-a313-942aaf7d81f9_workspace'\n",
        "# os.environ['GRADIENT_ACCESS_TOKEN']='pZaOfOwiDZKeVZ9ANUePXkcMJOtI7Lst'\n",
        "\n",
        "os.environ['GRADIENT_WORKSPACE_ID']=\"17dcfa54-54e2-e1478195ddae_workspace\"\n",
        "os.environ['GRADIENT_ACCESS_TOKEN']=\"jlMnTMJIO2emT4z3PMhP9YfcM\""
      ],
      "metadata": {
        "id": "SU3cUwwacjww"
      },
      "execution_count": null,
      "outputs": []
    },
    {
      "cell_type": "code",
      "source": [
        "from gradientai import Gradient"
      ],
      "metadata": {
        "id": "bMVOZqYOKd0E"
      },
      "execution_count": null,
      "outputs": []
    },
    {
      "cell_type": "markdown",
      "source": [
        "# **LLM Model: nous-hermes2**"
      ],
      "metadata": {
        "id": "rU6Mn-KPPqhZ"
      }
    },
    {
      "cell_type": "code",
      "source": [
        "training_data = [\n",
        "\t{\n",
        "    \t\"prompt\": \"What is the capital of France?->\",\n",
        "    \t\"completion\": \"\"\" The capital of France is Paris.\\n\"\"\"\n",
        "\t},\n",
        "\t{\n",
        "    \t\"prompt\": \"What is the primary function of the heart?->\",\n",
        "    \t\"completion\": \"\"\" The primary function of the heart is to pump blood throughout the body.\\n\"\"\"\n",
        "\t},\n",
        "\t{\n",
        "    \t\"prompt\": \"What is photosynthesis?->\",\n",
        "    \t\"completion\": \"\"\" Photosynthesis is the process by which green plants and some other organisms convert sunlight into chemical energy stored in the form of glucose.\\n\"\"\"\n",
        "\t},\n",
        "\t{\n",
        "    \t\"prompt\": \"Who wrote the play 'Romeo and Juliet'?->\",\n",
        "    \t\"completion\": \"\"\" William Shakespeare wrote the play 'Romeo and Juliet'.\\n\"\"\"\n",
        "\t},\n",
        "\t{\n",
        "    \t\"prompt\": \"Which element has the atomic number 1?->\",\n",
        "    \t\"completion\": \"\"\" Hydrogen has the atomic number 1.\\n\"\"\"\n",
        "\t},\n",
        "\t{\n",
        "    \t\"prompt\": \"What is the largest planet in our solar system?->\",\n",
        "    \t\"completion\": \"\"\" Jupiter is the largest planet in our solar system.\\n\"\"\"\n",
        "\t},\n",
        "\t{\n",
        "    \t\"prompt\": \"What is the freezing point of water in Celsius?->\",\n",
        "    \t\"completion\": \"\"\" The freezing point of water in Celsius is 0 degrees.\\n\"\"\"\n",
        "\t},\n",
        "\t{\n",
        "    \t\"prompt\": \"What is the square root of 144?->\",\n",
        "    \t\"completion\": \"\"\" The square root of 144 is 12.\\n\"\"\"\n",
        "\t},\n",
        "\t{\n",
        "    \t\"prompt\": \"Who is the author of 'To Kill a Mockingbird'?->\",\n",
        "    \t\"completion\": \"\"\" The author of 'To Kill a Mockingbird' is Harper Lee.\\n\"\"\"\n",
        "\t},\n",
        "\t{\n",
        "    \t\"prompt\": \"What is the smallest unit of life?->\",\n",
        "    \t\"completion\": \"\"\" The smallest unit of life is the cell.\\n\"\"\"\n",
        "\t},\n",
        "    {\n",
        "    \t\"prompt\": \"What is Capital of Pune district?->\",\n",
        "    \t\"completion\": \"\"\" Pune city is Capital of Pune district\\n\"\"\"\n",
        "\t},\n",
        "    {\n",
        "    \t\"prompt\": \"What is Capital of Sindhudurg district?->\",\n",
        "    \t\"completion\": \"\"\" Kudal is Capital of Sindhudurg district\\n\"\"\"\n",
        "\t},\n",
        "    {\n",
        "    \t\"prompt\": \"Which gas do plants use for photosynthesis?->\",\n",
        "    \t\"completion\": \"\"\" Plants use carbon dioxide for photosynthesis.\\n\"\"\"\n",
        "\t},\n",
        "\t{\n",
        "    \t\"prompt\": \"What are the three primary colors of light?->\",\n",
        "    \t\"completion\": \"\"\" The three primary colors of light are red, green, and blue.\\n\"\"\"\n",
        "\t},\n",
        "\t{\n",
        "    \t\"prompt\": \"Who discovered penicillin?->\",\n",
        "    \t\"completion\": \"\"\" Sir Alexander Fleming discovered penicillin.\\n\"\"\"\n",
        "\t},\n",
        "\t{\n",
        "    \t\"prompt\": \"What is the chemical formula for water?->\",\n",
        "    \t\"completion\": \"\"\" The chemical formula for water is H2O.\\n\"\"\"\n",
        "\t},\n",
        "\t{\n",
        "    \t\"prompt\": \"What is the largest country by land area?->\",\n",
        "    \t\"completion\": \"\"\" Russia is the largest country by land area.\\n\"\"\"\n",
        "\t},\n",
        "\t{\n",
        "    \t\"prompt\": \"What is the speed of light in a vacuum?->\",\n",
        "    \t\"completion\": \"\"\" The speed of light in a vacuum is approximately 299,792 kilometers per second.\\n\"\"\"\n",
        "\t},\n",
        "\t{\n",
        "    \t\"prompt\": \"What is the currency of Japan?->\",\n",
        "    \t\"completion\": \"\"\" The currency of Japan is the Japanese Yen.\\n\"\"\"\n",
        "\t},\n",
        "\t{\n",
        "    \t\"prompt\": \"What is the smallest bone in the human body?->\",\n",
        "    \t\"completion\": \"\"\" The stapes, located in the middle ear, is the smallest bone in the human body.\\n\"\"\"\n",
        "\t},\n",
        "    {\n",
        "    \t\"prompt\": \"What is Capital of Ratnagiri district?->\",\n",
        "    \t\"completion\": \"\"\" Mandangadh city is Capital of Ratnagiri district\\n\"\"\"\n",
        "\t}\n",
        "]"
      ],
      "metadata": {
        "id": "5tX8TyHmQZN0"
      },
      "execution_count": null,
      "outputs": []
    },
    {
      "cell_type": "code",
      "source": [
        "samples = []\n",
        "for itm in training_data:\n",
        "    prompt = itm['prompt'].replace('->', '')\n",
        "    response = itm['completion']\n",
        "    # print(\"prompt     :\", prompt)\n",
        "    # print(\"completion :\", response)\n",
        "    samp = { \"inputs\": f\"<s>### Instruction:\\n{ prompt } \\n\\n### Response:\\n{ response } </s>\" }\n",
        "    samples.append(samp)\n",
        "    # break"
      ],
      "metadata": {
        "id": "mzuA75RbQlMz"
      },
      "execution_count": null,
      "outputs": []
    },
    {
      "cell_type": "code",
      "source": [
        "samples"
      ],
      "metadata": {
        "colab": {
          "base_uri": "https://localhost:8080/"
        },
        "id": "LvibAFZwhbKL",
        "outputId": "c57ce28a-007d-4f16-9461-65abb34e874b"
      },
      "execution_count": null,
      "outputs": [
        {
          "output_type": "execute_result",
          "data": {
            "text/plain": [
              "[{'inputs': '<s>### Instruction:\\nWhat is the capital of France? \\n\\n### Response:\\n The capital of France is Paris.\\n </s>'},\n",
              " {'inputs': '<s>### Instruction:\\nWhat is the primary function of the heart? \\n\\n### Response:\\n The primary function of the heart is to pump blood throughout the body.\\n </s>'},\n",
              " {'inputs': '<s>### Instruction:\\nWhat is photosynthesis? \\n\\n### Response:\\n Photosynthesis is the process by which green plants and some other organisms convert sunlight into chemical energy stored in the form of glucose.\\n </s>'},\n",
              " {'inputs': \"<s>### Instruction:\\nWho wrote the play 'Romeo and Juliet'? \\n\\n### Response:\\n William Shakespeare wrote the play 'Romeo and Juliet'.\\n </s>\"},\n",
              " {'inputs': '<s>### Instruction:\\nWhich element has the atomic number 1? \\n\\n### Response:\\n Hydrogen has the atomic number 1.\\n </s>'},\n",
              " {'inputs': '<s>### Instruction:\\nWhat is the largest planet in our solar system? \\n\\n### Response:\\n Jupiter is the largest planet in our solar system.\\n </s>'},\n",
              " {'inputs': '<s>### Instruction:\\nWhat is the freezing point of water in Celsius? \\n\\n### Response:\\n The freezing point of water in Celsius is 0 degrees.\\n </s>'},\n",
              " {'inputs': '<s>### Instruction:\\nWhat is the square root of 144? \\n\\n### Response:\\n The square root of 144 is 12.\\n </s>'},\n",
              " {'inputs': \"<s>### Instruction:\\nWho is the author of 'To Kill a Mockingbird'? \\n\\n### Response:\\n The author of 'To Kill a Mockingbird' is Harper Lee.\\n </s>\"},\n",
              " {'inputs': '<s>### Instruction:\\nWhat is the smallest unit of life? \\n\\n### Response:\\n The smallest unit of life is the cell.\\n </s>'},\n",
              " {'inputs': '<s>### Instruction:\\nWhat is Capital of Pune district? \\n\\n### Response:\\n Pune city is Capital of Pune district\\n </s>'},\n",
              " {'inputs': '<s>### Instruction:\\nWhat is Capital of Sindhudurg district? \\n\\n### Response:\\n Kudal is Capital of Sindhudurg district\\n </s>'},\n",
              " {'inputs': '<s>### Instruction:\\nWhich gas do plants use for photosynthesis? \\n\\n### Response:\\n Plants use carbon dioxide for photosynthesis.\\n </s>'},\n",
              " {'inputs': '<s>### Instruction:\\nWhat are the three primary colors of light? \\n\\n### Response:\\n The three primary colors of light are red, green, and blue.\\n </s>'},\n",
              " {'inputs': '<s>### Instruction:\\nWho discovered penicillin? \\n\\n### Response:\\n Sir Alexander Fleming discovered penicillin.\\n </s>'},\n",
              " {'inputs': '<s>### Instruction:\\nWhat is the chemical formula for water? \\n\\n### Response:\\n The chemical formula for water is H2O.\\n </s>'},\n",
              " {'inputs': '<s>### Instruction:\\nWhat is the largest country by land area? \\n\\n### Response:\\n Russia is the largest country by land area.\\n </s>'},\n",
              " {'inputs': '<s>### Instruction:\\nWhat is the speed of light in a vacuum? \\n\\n### Response:\\n The speed of light in a vacuum is approximately 299,792 kilometers per second.\\n </s>'},\n",
              " {'inputs': '<s>### Instruction:\\nWhat is the currency of Japan? \\n\\n### Response:\\n The currency of Japan is the Japanese Yen.\\n </s>'},\n",
              " {'inputs': '<s>### Instruction:\\nWhat is the smallest bone in the human body? \\n\\n### Response:\\n The stapes, located in the middle ear, is the smallest bone in the human body.\\n </s>'},\n",
              " {'inputs': '<s>### Instruction:\\nWhat is Capital of Ratnagiri district? \\n\\n### Response:\\n Mandangadh city is Capital of Ratnagiri district\\n </s>'}]"
            ]
          },
          "metadata": {},
          "execution_count": 19
        }
      ]
    },
    {
      "cell_type": "code",
      "source": [
        "# For nous-hermes2, we recommend formatting each data sample like this:\n",
        "\n",
        "# Json\n",
        "{ \"inputs\": \"<s>### Instruction:\\n{{ user_message }}\\n\\n### Response:\\n{{ response }}</s>\" }\n",
        "\n",
        "{ \"inputs\": \"<s>### Instruction:\\n{{ user_message }}\\n\\n### Response:\\n{{ response }}</s>\" }"
      ],
      "metadata": {
        "id": "i7fqrfI9LXbL"
      },
      "execution_count": null,
      "outputs": []
    },
    {
      "cell_type": "code",
      "source": [
        "gradient = Gradient()\n",
        "\n",
        "\n",
        "def fine_tune_noushermes_model(model_name, samples_data):\n",
        "\n",
        "    base_model = gradient.get_base_model(base_model_slug=\"nous-hermes2\")\n",
        "\n",
        "    new_model_adapter = base_model.create_model_adapter(name = model_name)\n",
        "    print(f\"Created model adapter with id {new_model_adapter.id}\")\n",
        "\n",
        "    print(\"Start Fine tuning the model madel name: \", model_name)\n",
        "    ## Lets define parameters for finetuning\n",
        "    num_epochs=3\n",
        "    count=0\n",
        "    while count<num_epochs:\n",
        "      print(f\"Fine tuning the model with iteration {count + 1}\")\n",
        "      new_model_adapter.fine_tune(samples=samples_data)\n",
        "      count=count+1\n",
        "\n",
        "    return new_model_adapter"
      ],
      "metadata": {
        "id": "cTNsi78-NeIy"
      },
      "execution_count": null,
      "outputs": []
    },
    {
      "cell_type": "code",
      "source": [
        "\n",
        "model_name = \"AKModel_nous-hermes2\"\n",
        "samples_data = samples\n",
        "model_adapter = fine_tune_noushermes_model(model_name, samples_data)"
      ],
      "metadata": {
        "colab": {
          "base_uri": "https://localhost:8080/"
        },
        "id": "6g4vW1aSNeGU",
        "outputId": "f13f983c-53ec-436e-d4cb-fa008835b960"
      },
      "execution_count": null,
      "outputs": [
        {
          "output_type": "stream",
          "name": "stdout",
          "text": [
            "Created model adapter with id 11fe3cf1-1a93-4874-bb9b-ea846f9da0c0_model_adapter\n",
            "Start Fine tuning the model madel name:  AKModel_nous-hermes2\n",
            "Fine tuning the model with iteration 1\n",
            "Fine tuning the model with iteration 2\n",
            "Fine tuning the model with iteration 3\n"
          ]
        }
      ]
    },
    {
      "cell_type": "code",
      "source": [
        "que = \"What is Capital of Ratnagiri?\"\n",
        "# { \"inputs\": \"<s>### Instruction:\\n{{ user_message }}\\n\\n### Response:\\n{{ response }}</s>\" }\n",
        "sample_query = f\"### Instruction: {que} \\n\\n ### Response:\"\n",
        "print(f\"Asking: {sample_query}\")"
      ],
      "metadata": {
        "colab": {
          "base_uri": "https://localhost:8080/"
        },
        "id": "NAJLNkdPPJpr",
        "outputId": "8aa87f86-c8bf-4966-ae47-7468d2bcc6fc"
      },
      "execution_count": null,
      "outputs": [
        {
          "output_type": "stream",
          "name": "stdout",
          "text": [
            "Asking: ### Instruction: What is Capital of Ratnagiri? \n",
            "\n",
            " ### Response:\n"
          ]
        }
      ]
    },
    {
      "cell_type": "code",
      "source": [
        "\n",
        "#after fine tuning\n",
        "completion = model_adapter.complete(query=sample_query, max_generated_token_count=100).generated_output\n",
        "print(\"Generated(after fine tuning)\")\n",
        "print(completion)"
      ],
      "metadata": {
        "colab": {
          "base_uri": "https://localhost:8080/"
        },
        "id": "ds6ykzgJNeD1",
        "outputId": "efaaf0d1-1b21-457f-b256-0e3f6e29b246"
      },
      "execution_count": null,
      "outputs": [
        {
          "output_type": "stream",
          "name": "stdout",
          "text": [
            "Generated(after fine tuning)\n",
            " Mandangadh is Capital of Ratnagiri.\n",
            " \n"
          ]
        }
      ]
    },
    {
      "cell_type": "code",
      "source": [
        "que = \"What is Capital of India?\"\n",
        "sample_query = f\"### Instruction: {que} \\n\\n ### Response:\"\n",
        "print(f\"Asking: {sample_query}\")\n",
        "#after fine tuning\n",
        "completion = model_adapter.complete(query=sample_query, max_generated_token_count=100).generated_output\n",
        "print(\"Generated(after fine tuning)\")\n",
        "print(completion)"
      ],
      "metadata": {
        "colab": {
          "base_uri": "https://localhost:8080/"
        },
        "id": "UU9dhYfMkcti",
        "outputId": "43c6cd99-38b8-45aa-c074-b0cce98ed130"
      },
      "execution_count": null,
      "outputs": [
        {
          "output_type": "stream",
          "name": "stdout",
          "text": [
            "Asking: ### Instruction: What is Capital of India? \n",
            "\n",
            " ### Response:\n",
            "Generated(after fine tuning)\n",
            " The capital of India is New Delhi.\n",
            " \n"
          ]
        }
      ]
    },
    {
      "cell_type": "code",
      "source": [
        "model_adapter.name"
      ],
      "metadata": {
        "colab": {
          "base_uri": "https://localhost:8080/",
          "height": 38
        },
        "id": "OGNSSpGDjheS",
        "outputId": "85bb9700-8685-453e-c4a2-87c8ec0d44b4"
      },
      "execution_count": null,
      "outputs": [
        {
          "output_type": "execute_result",
          "data": {
            "text/plain": [
              "'AKModel_nous-hermes2'"
            ],
            "application/vnd.google.colaboratory.intrinsic+json": {
              "type": "string"
            }
          },
          "metadata": {},
          "execution_count": 26
        }
      ]
    },
    {
      "cell_type": "code",
      "source": [
        "# if you want to delete finetuned model\n",
        "\n",
        "# model_adapter.delete()"
      ],
      "metadata": {
        "id": "7Iut6lqdNd-z"
      },
      "execution_count": null,
      "outputs": []
    },
    {
      "cell_type": "code",
      "source": [
        "gradient.close()"
      ],
      "metadata": {
        "id": "3J0lZGFHNd8N"
      },
      "execution_count": null,
      "outputs": []
    },
    {
      "cell_type": "code",
      "source": [
        "# question not from our custom dataset\n",
        "que = \"What is Capital of Kolhapur?\"\n",
        "sample_query = f\"### Instruction: {que} \\n\\n ### Response:\"\n",
        "print(f\"Asking: {sample_query}\")\n",
        "#after fine tuning\n",
        "completion = model_adapter.complete(query=sample_query, max_generated_token_count=100).generated_output\n",
        "print(\"Generated(after fine tuning)\")\n",
        "print(completion)"
      ],
      "metadata": {
        "colab": {
          "base_uri": "https://localhost:8080/"
        },
        "id": "AqOrNDQ9k8Gb",
        "outputId": "07aa868d-1f33-4c56-edcf-04621af1efb7"
      },
      "execution_count": null,
      "outputs": [
        {
          "output_type": "stream",
          "name": "stdout",
          "text": [
            "Asking: ### Instruction: What is Capital of Kolhapur? \n",
            "\n",
            " ### Response:\n",
            "Generated(after fine tuning)\n",
            " Kolhapur is a city in the state of Maharashtra, India. Its district headquarters are located in the city of Kolhapur.\n",
            " \n"
          ]
        }
      ]
    },
    {
      "cell_type": "markdown",
      "source": [
        "# **Model: llama-7b-chat**"
      ],
      "metadata": {
        "id": "i-CHSY1MlmKz"
      }
    },
    {
      "cell_type": "code",
      "source": [
        "system_prompt = \"\"\"You are a friendly and knowledgeable AI language chat model. I need your assistance in answering general-purpose questions. Please provide accurate responses to the best of your ability. If uncertain about any information, kindly express that uncertainty.\"\"\"\n"
      ],
      "metadata": {
        "id": "DAQ2n8Nem-Vk"
      },
      "execution_count": null,
      "outputs": []
    },
    {
      "cell_type": "code",
      "source": [
        "samples = []\n",
        "for itm in training_data:\n",
        "    user_message = itm['prompt'].replace('->', '')\n",
        "    response = itm['completion']\n",
        "    # print(\"prompt     :\", prompt)\n",
        "    # print(\"completion :\", response)\n",
        "    samp = { \"inputs\": f\"<s>[INST] <<SYS>>\\n{ system_prompt }\\n<</SYS>>\\n\\n{ user_message } [/INST] { response } </s>\" }\n",
        "    # print(samp)\n",
        "    samples.append(samp)\n",
        "    # break\n",
        "\n",
        "# { \"inputs\": \"<s>[INST] <<SYS>>\\n{{ system_prompt }}\\n<</SYS>>\\n\\n{{ user_message }} [/INST] {{ response }} </s>\" }"
      ],
      "metadata": {
        "id": "1h5TXSfFlSuA"
      },
      "execution_count": null,
      "outputs": []
    },
    {
      "cell_type": "code",
      "source": [
        "samples[:2]"
      ],
      "metadata": {
        "colab": {
          "base_uri": "https://localhost:8080/"
        },
        "id": "ZdKK07kwlSr1",
        "outputId": "99b3846f-4fdd-4194-cd1d-cbb64c3f1e58"
      },
      "execution_count": null,
      "outputs": [
        {
          "output_type": "execute_result",
          "data": {
            "text/plain": [
              "[{'inputs': '<s>[INST] <<SYS>>\\nYou are a friendly and knowledgeable AI language chat model. I need your assistance in answering general-purpose questions. Please provide accurate responses to the best of your ability. If uncertain about any information, kindly express that uncertainty.\\n<</SYS>>\\n\\nWhat is the capital of France? [/INST]  The capital of France is Paris.\\n </s>'},\n",
              " {'inputs': '<s>[INST] <<SYS>>\\nYou are a friendly and knowledgeable AI language chat model. I need your assistance in answering general-purpose questions. Please provide accurate responses to the best of your ability. If uncertain about any information, kindly express that uncertainty.\\n<</SYS>>\\n\\nWhat is the primary function of the heart? [/INST]  The primary function of the heart is to pump blood throughout the body.\\n </s>'}]"
            ]
          },
          "metadata": {},
          "execution_count": 40
        }
      ]
    },
    {
      "cell_type": "code",
      "source": [
        "gradient = Gradient()\n",
        "\n",
        "\n",
        "def fine_tune_llama2_model(model_name, samples_data):\n",
        "\n",
        "    base_model = gradient.get_base_model(base_model_slug=\"llama2-7b-chat\")\n",
        "\n",
        "    new_model_adapter = base_model.create_model_adapter(name = model_name)\n",
        "    print(f\"Created model adapter with id {new_model_adapter.id}\")\n",
        "\n",
        "    print(\"Start Fine tuning the model madel name: \", model_name)\n",
        "    ## Lets define parameters for finetuning\n",
        "    num_epochs=3\n",
        "    count=0\n",
        "    while count<num_epochs:\n",
        "      print(f\"Fine tuning the model with iteration {count + 1}\")\n",
        "      new_model_adapter.fine_tune(samples=samples_data)\n",
        "      count=count+1\n",
        "\n",
        "    return new_model_adapter"
      ],
      "metadata": {
        "id": "38Rv7otUlSon"
      },
      "execution_count": null,
      "outputs": []
    },
    {
      "cell_type": "code",
      "source": [
        "model_name = \"AKModel_llama2-7b-chat\"\n",
        "samples_data = samples\n",
        "model_adapter = fine_tune_llama2_model(model_name, samples_data)"
      ],
      "metadata": {
        "colab": {
          "base_uri": "https://localhost:8080/"
        },
        "id": "QxJ2PZXkk8D8",
        "outputId": "2812e5e6-a555-490c-a80d-8beb077a792f"
      },
      "execution_count": null,
      "outputs": [
        {
          "output_type": "stream",
          "name": "stdout",
          "text": [
            "Created model adapter with id 2190de96-59e5-4c9b-b009-3382de583c58_model_adapter\n",
            "Start Fine tuning the model madel name:  AKModel_llama2-7b-chat\n",
            "Fine tuning the model with iteration 1\n",
            "Fine tuning the model with iteration 2\n",
            "Fine tuning the model with iteration 3\n"
          ]
        }
      ]
    },
    {
      "cell_type": "code",
      "source": [
        "model_adapter.name"
      ],
      "metadata": {
        "colab": {
          "base_uri": "https://localhost:8080/",
          "height": 38
        },
        "id": "jrpPnzzkpiPm",
        "outputId": "d63cb446-40a8-4a10-9763-fb32ac15bdf0"
      },
      "execution_count": null,
      "outputs": [
        {
          "output_type": "execute_result",
          "data": {
            "text/plain": [
              "'AKModel_llama2-7b-chat'"
            ],
            "application/vnd.google.colaboratory.intrinsic+json": {
              "type": "string"
            }
          },
          "metadata": {},
          "execution_count": 44
        }
      ]
    },
    {
      "cell_type": "code",
      "source": [
        "que = \"What is Capital of France?\"\n",
        "sample_query = f\"### Instruction: {que} \\n\\n ### Response:\"\n",
        "print(\"Generated(after fine tuning) And question from dataset\")\n",
        "print(f\"Asking: {sample_query}\")\n",
        "#after fine tuning\n",
        "completion = model_adapter.complete(query=sample_query, max_generated_token_count=100).generated_output\n",
        "print(completion)"
      ],
      "metadata": {
        "colab": {
          "base_uri": "https://localhost:8080/"
        },
        "id": "R9jSD3Jup4C1",
        "outputId": "e49b189b-0e1b-4c2b-825e-253cf042c800"
      },
      "execution_count": null,
      "outputs": [
        {
          "output_type": "stream",
          "name": "stdout",
          "text": [
            "Generated(after fine tuning) And question from dataset\n",
            "Asking: ### Instruction: What is Capital of France? \n",
            "\n",
            " ### Response:\n",
            " The capital of France is Paris.\n"
          ]
        }
      ]
    },
    {
      "cell_type": "code",
      "source": [
        "que = \"Who is the author of 'To Kill a Mockingbird'?\"\n",
        "sample_query = f\"### Instruction: {que} \\n\\n ### Response:\"\n",
        "print(\"Generated(after fine tuning) And question from dataset\")\n",
        "print(f\"Asking: {sample_query}\")\n",
        "#after fine tuning\n",
        "completion = model_adapter.complete(query=sample_query, max_generated_token_count=100).generated_output\n",
        "print(completion)"
      ],
      "metadata": {
        "colab": {
          "base_uri": "https://localhost:8080/"
        },
        "id": "cSPTWTrpqhgJ",
        "outputId": "834cc6f6-916b-4200-bb0a-36bebec4b2f9"
      },
      "execution_count": null,
      "outputs": [
        {
          "output_type": "stream",
          "name": "stdout",
          "text": [
            "Generated(after fine tuning) And question from dataset\n",
            "Asking: ### Instruction: Who is the author of 'To Kill a Mockingbird'? \n",
            "\n",
            " ### Response:\n",
            " The author of 'To Kill a Mockingbird' is Harper Lee.\n"
          ]
        }
      ]
    },
    {
      "cell_type": "code",
      "source": [
        "que = \"What is Capital of France?\"\n",
        "sample_query = f\"### Instruction: {que} \\n\\n ### Response:\"\n",
        "print(\"Generated(after fine tuning) And question from dataset\")\n",
        "print(f\"Asking: {sample_query}\")\n",
        "#after fine tuning\n",
        "completion = model_adapter.complete(query=sample_query, max_generated_token_count=100).generated_output\n",
        "print(completion)"
      ],
      "metadata": {
        "id": "xitPWN90qatp"
      },
      "execution_count": null,
      "outputs": []
    },
    {
      "cell_type": "code",
      "source": [
        "que = \"What is Capital of Sindhudurg district?\"\n",
        "sample_query = f\"### Instruction: {que} \\n\\n ### Response:\"\n",
        "print(\"Generated(after fine tuning) And question from dataset\")\n",
        "print(f\"Asking: {sample_query}\")\n",
        "#after fine tuning\n",
        "completion = model_adapter.complete(query=sample_query, max_generated_token_count=100).generated_output\n",
        "print(completion)"
      ],
      "metadata": {
        "colab": {
          "base_uri": "https://localhost:8080/"
        },
        "id": "QZVJEvzZqDBp",
        "outputId": "66c0ccf9-4c47-4f8c-a2ca-61d144fd49b0"
      },
      "execution_count": null,
      "outputs": [
        {
          "output_type": "stream",
          "name": "stdout",
          "text": [
            "Generated(after fine tuning) And question from dataset\n",
            "Asking: ### Instruction: What is Capital of Sindhudurg district? \n",
            "\n",
            " ### Response:\n",
            " The capital of Sindhudurg district is Sindhudurg.\n"
          ]
        }
      ]
    },
    {
      "cell_type": "code",
      "source": [
        "# question not from our custom dataset\n",
        "que = \"What is Capital of India?\"\n",
        "sample_query = f\"### Instruction: {que} \\n\\n ### Response:\"\n",
        "print(\"Generated(after fine tuning) And question not from dataset\")\n",
        "print(f\"Asking: {sample_query}\")\n",
        "#after fine tuning\n",
        "completion = model_adapter.complete(query=sample_query, max_generated_token_count=100).generated_output\n",
        "print(completion)"
      ],
      "metadata": {
        "colab": {
          "base_uri": "https://localhost:8080/"
        },
        "id": "f5sn5-RXk8Ba",
        "outputId": "a625e961-ba01-48fa-d7e5-d8443e119998"
      },
      "execution_count": null,
      "outputs": [
        {
          "output_type": "stream",
          "name": "stdout",
          "text": [
            "Generated(after fine tuning) And question not from dataset\n",
            "Asking: ### Instruction: What is Capital of India? \n",
            "\n",
            " ### Response:\n",
            " The capital of India is New Delhi.\n"
          ]
        }
      ]
    },
    {
      "cell_type": "code",
      "source": [
        "gradient.close()"
      ],
      "metadata": {
        "id": "R4-VQn6cq0jj"
      },
      "execution_count": null,
      "outputs": []
    },
    {
      "cell_type": "markdown",
      "source": [
        "![image.png](data:image/png;base64,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)"
      ],
      "metadata": {
        "id": "24yFqeFQqyzh"
      }
    },
    {
      "cell_type": "code",
      "source": [],
      "metadata": {
        "id": "hPGTNmPhk78a"
      },
      "execution_count": null,
      "outputs": []
    },
    {
      "cell_type": "code",
      "source": [
        "\n",
        "\n",
        "\n",
        "def main():\n",
        "    gradient = Gradient()\n",
        "\n",
        "    base_model = gradient.get_base_model(base_model_slug=\"nous-hermes2\")\n",
        "\n",
        "    new_model_adapter = base_model.create_model_adapter(\n",
        "                                                        name=\"AKModel_nous-hermes2\"\n",
        "                                                        )\n",
        "    print(f\"Created model adapter with id {new_model_adapter.id}\")\n",
        "\n",
        "\n",
        "    sample_query = \"### Instruction: Who is Anaji Kadam? \\n\\n ### Response:\"\n",
        "    print(f\"Asking: {sample_query}\")\n",
        "    ## Before Finetuning\n",
        "    completion = new_model_adapter.complete(query=sample_query, max_generated_token_count=100).generated_output\n",
        "    print(f\"Generated(before fine tuning): {completion}\")\n",
        "\n",
        "    print(\"Create Sample Data---->>>>\")\n",
        "    samples=[\n",
        "        {\"inputs\":\"### Instruction: Who is Anaji Kadam? \\n\\n### Response: Anaji is a popular mentor and youtuber who uploads videos on Data Science,AI And LLM in his channel AnajiKadam\"},\n",
        "        {\"inputs\":\"### Instruction: Who is this person named Anaji Kadam? \\n\\n### Response: Anaji Kadam Like Data Science And AI And makes videos in youtube and he is also a mentor\"},\n",
        "        {\"inputs\":\"### Instruction: What do you know about Anaji Kadam? \\n\\n### Response: Anaji Kadam is a popular creator who specializes in the field of Data Science and his channel name is Anaji Kadam\"},\n",
        "        {\"inputs\":\"### Instruction: Can you tell me about Anaji Kadam? \\n\\n### Response: Anaji Kadam is a youtuber,video creator,and a creator who loves Data Science And AI and LLM's\"}\n",
        "    ]\n",
        "    print(\"Start Fine tuning the model\")\n",
        "    ## Lets define parameters for finetuning\n",
        "    num_epochs=3\n",
        "    count=0\n",
        "    while count<num_epochs:\n",
        "      print(f\"Fine tuning the model with iteration {count + 1}\")\n",
        "      new_model_adapter.fine_tune(samples=samples)\n",
        "      count=count+1\n",
        "\n",
        "    #after fine tuning\n",
        "    completion = new_model_adapter.complete(query=sample_query, max_generated_token_count=100).generated_output\n",
        "    print(f\"Generated(after fine tuning): {completion}\")\n",
        "    new_model_adapter.delete()\n",
        "    gradient.close()\n",
        "\n"
      ],
      "metadata": {
        "id": "0U5D6rx6deHY"
      },
      "execution_count": null,
      "outputs": []
    },
    {
      "cell_type": "code",
      "source": [
        "if __name__ == \"__main__\":\n",
        "    main()"
      ],
      "metadata": {
        "colab": {
          "base_uri": "https://localhost:8080/"
        },
        "id": "9f0TVGV5KfEj",
        "outputId": "d72b3810-b144-4fc9-d956-abd2e310e554"
      },
      "execution_count": null,
      "outputs": [
        {
          "output_type": "stream",
          "name": "stdout",
          "text": [
            "Created model adapter with id aca5dcce-1be3-4064-bc7d-5acb4135fb92_model_adapter\n",
            "Asking: ### Instruction: Who is Anaji Kadam? \n",
            "\n",
            " ### Response:\n",
            "Generated(before fine tuning):  Anaji Kadam is a 21-year-old Indian woman who made headlines in 2020 for her incredible weight loss journey. She lost an astonishing 150 pounds (68 kilograms) in just 18 months through a strict diet and exercise regimen. Her transformation has inspired many people around the world and she has become a popular figure in the fitness community.\n",
            "Create Sample Data---->>>>\n",
            "Start Fine tuning the model\n",
            "Fine tuning the model with iteration 1\n",
            "Fine tuning the model with iteration 2\n",
            "Fine tuning the model with iteration 3\n",
            "Generated(after fine tuning):  Anaji Kadam is a popular creator who specializes in the field of Data Science and AI. He is known for his YouTube channel AnajiKadam and creates videos on Data Science,AI,LLM,GPT,NLP,Computer Vision,Reinforcement Learning,Web Development,Cyber Security,Digital Marketing,Stock Market,Cryptocurrency,Blockchain,IoT,Robotics,Automation,\n"
          ]
        }
      ]
    },
    {
      "cell_type": "code",
      "source": [],
      "metadata": {
        "id": "uifyewQ9dmjs"
      },
      "execution_count": null,
      "outputs": []
    }
  ]
}